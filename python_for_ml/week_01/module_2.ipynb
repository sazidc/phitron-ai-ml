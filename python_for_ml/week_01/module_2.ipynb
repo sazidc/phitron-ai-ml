{
 "cells": [
  {
   "cell_type": "markdown",
   "id": "9ebc6f8b",
   "metadata": {},
   "source": [
    "### Conditional statements in Python"
   ]
  },
  {
   "cell_type": "code",
   "execution_count": 1,
   "id": "85ccb154",
   "metadata": {},
   "outputs": [
    {
     "name": "stdout",
     "output_type": "stream",
     "text": [
      "I will go out to eat\n"
     ]
    }
   ],
   "source": [
    "money = 100 ; is_raining = False\n",
    "\n",
    "if money > 50 and is_raining == False:\n",
    "    print(\"I will go out to eat\")\n",
    "else:\n",
    "    print(\"I will stay at home\")"
   ]
  },
  {
   "cell_type": "code",
   "execution_count": 2,
   "id": "6f381965",
   "metadata": {},
   "outputs": [
    {
     "name": "stdout",
     "output_type": "stream",
     "text": [
      "0 0\n",
      "0 1\n",
      "0 2\n",
      "0 3\n",
      "0 4\n",
      "1 0\n",
      "1 1\n",
      "1 2\n",
      "1 3\n",
      "1 4\n",
      "2 0\n",
      "2 1\n",
      "2 2\n",
      "2 3\n",
      "2 4\n",
      "3 0\n",
      "3 1\n",
      "3 2\n",
      "3 3\n",
      "3 4\n",
      "4 0\n",
      "4 1\n",
      "4 2\n",
      "4 3\n",
      "4 4\n",
      "5 0\n",
      "5 1\n",
      "5 2\n",
      "5 3\n",
      "5 4\n",
      "6 0\n",
      "6 1\n",
      "6 2\n",
      "6 3\n",
      "6 4\n",
      "7 0\n",
      "7 1\n",
      "7 2\n",
      "7 3\n",
      "7 4\n",
      "8 0\n",
      "8 1\n",
      "8 2\n",
      "8 3\n",
      "8 4\n",
      "9 0\n",
      "9 1\n",
      "9 2\n",
      "9 3\n",
      "9 4\n"
     ]
    }
   ],
   "source": [
    "for i in range(10):\n",
    "    for j in range(5):\n",
    "        print(i,j)"
   ]
  },
  {
   "cell_type": "code",
   "execution_count": 5,
   "id": "0dbd9601",
   "metadata": {},
   "outputs": [
    {
     "name": "stdout",
     "output_type": "stream",
     "text": [
      "5\n",
      "6\n",
      "7\n",
      "8\n",
      "9\n"
     ]
    }
   ],
   "source": [
    "count = 5\n",
    "\n",
    "while count < 10:\n",
    "    print(count)\n",
    "    count += 1"
   ]
  },
  {
   "cell_type": "code",
   "execution_count": 6,
   "id": "d71c18f4",
   "metadata": {},
   "outputs": [
    {
     "name": "stdout",
     "output_type": "stream",
     "text": [
      "4 hello world\n",
      "5 hello world\n",
      "6 hello world\n",
      "7 hello world\n",
      "8 hello world\n",
      "9 hello world\n",
      "10\n"
     ]
    }
   ],
   "source": [
    "count = 4 \n",
    "\n",
    "while count < 10 : \n",
    "    print(count,\"hello world\")\n",
    "    count= count +1 \n",
    "\n",
    "print(count)"
   ]
  },
  {
   "cell_type": "code",
   "execution_count": 7,
   "id": "6eb0e43d",
   "metadata": {},
   "outputs": [
    {
     "name": "stdout",
     "output_type": "stream",
     "text": [
      "1 is processing\n",
      "1 is added to the sum\n",
      "2 is processing\n",
      "3 is processing\n",
      "3 is added to the sum\n",
      "4 is processing\n",
      "5 is processing\n",
      "5 is added to the sum\n",
      "6 is processing\n",
      "7 is processing\n",
      "7 is added to the sum\n",
      "8 is processing\n",
      "9 is processing\n",
      "9 is added to the sum\n",
      "10 is processing\n"
     ]
    }
   ],
   "source": [
    "sum = 0 \n",
    "\n",
    "for i in range(1,11):\n",
    "\n",
    "    print(i , \"is processing\")\n",
    "\n",
    "    if i % 2 == 0: ## even \n",
    "        continue\n",
    "          \n",
    "    sum+= i \n",
    "    print(i ,\"is added to the sum\")"
   ]
  },
  {
   "cell_type": "code",
   "execution_count": 13,
   "id": "61699ea9",
   "metadata": {},
   "outputs": [
    {
     "name": "stdout",
     "output_type": "stream",
     "text": [
      "Accuracy: 96\n",
      "Accuracy: 97\n",
      "Accuracy: 98\n",
      "Accuracy: 99\n",
      "Accuracy: 100\n",
      "Finished with accuracy = 100\n"
     ]
    }
   ],
   "source": [
    "accuracy = 95\n",
    "changed_or_not = True\n",
    "\n",
    "while True:\n",
    "    # simulate accuracy update\n",
    "    accuracy += 1  # pretend accuracy improves each loop\n",
    "    print(\"Accuracy:\", accuracy)\n",
    "\n",
    "    # check if accuracy has changed\n",
    "    if accuracy < 100:\n",
    "        changed_or_not = True\n",
    "    else:\n",
    "        changed_or_not = False\n",
    "\n",
    "    # break if accuracy is 100 and there's no change\n",
    "    if accuracy == 100 and not changed_or_not:\n",
    "        break\n",
    "    \n",
    "print(\"Finished with accuracy =\", accuracy)\n"
   ]
  },
  {
   "cell_type": "markdown",
   "id": "38378d59",
   "metadata": {},
   "source": [
    "### Max and Min problem"
   ]
  },
  {
   "cell_type": "code",
   "execution_count": 20,
   "id": "bb363510",
   "metadata": {},
   "outputs": [
    {
     "name": "stdout",
     "output_type": "stream",
     "text": [
      "-65 168\n"
     ]
    }
   ],
   "source": [
    "inp = input()\n",
    "\n",
    "numbers = inp.split()\n",
    "\n",
    "x = int(numbers[0])\n",
    "y = int(numbers[1])\n",
    "z = int(numbers[2])\n",
    "\n",
    "min_value = x \n",
    "max_value = x \n",
    "\n",
    "## min\n",
    "if y < min_value :\n",
    "    min_value = y \n",
    "if z < min_value :\n",
    "    min_value = z \n",
    "\n",
    "\n",
    "## max \n",
    "if y > max_value :\n",
    "    max_value = y \n",
    "\n",
    "if z > max_value :\n",
    "    max_value = z \n",
    "\n",
    "\n",
    "print(min_value , max_value)"
   ]
  },
  {
   "cell_type": "markdown",
   "id": "f8857ce4",
   "metadata": {},
   "source": [
    "### Even, Odd, Positive and Negative"
   ]
  },
  {
   "cell_type": "code",
   "execution_count": 25,
   "id": "b539c170",
   "metadata": {},
   "outputs": [
    {
     "name": "stdout",
     "output_type": "stream",
     "text": [
      "Even: 2\n",
      "Odd: 3\n",
      "Positive: 4\n",
      "Negative: 1\n"
     ]
    }
   ],
   "source": [
    "n = int(input()) \n",
    "\n",
    "inp = input()\n",
    "\n",
    "numbers= inp.split()\n",
    "\n",
    "positive =0 ; negative =0 ; even =0 ; odd =0 \n",
    "\n",
    "\n",
    "for i in range(n):\n",
    "    x = int(numbers[i])\n",
    "    # positive or negative\n",
    "    if x > 0 :\n",
    "        positive+=1 \n",
    "    elif x < 0 :\n",
    "        negative+=1 \n",
    "    \n",
    "    # odd or even\n",
    "    if x % 2 !=0 :\n",
    "        odd+=1 \n",
    "    else:\n",
    "        even+=1 \n",
    "\n",
    "\n",
    "print(\"Even:\",even)\n",
    "print(\"Odd:\",odd)\n",
    "print(\"Positive:\",positive)\n",
    "print(\"Negative:\",negative)"
   ]
  },
  {
   "cell_type": "markdown",
   "id": "60b70b83",
   "metadata": {},
   "source": [
    "### Q. Digits"
   ]
  },
  {
   "cell_type": "code",
   "execution_count": 1,
   "id": "5dd46ef1",
   "metadata": {},
   "outputs": [
    {
     "name": "stdout",
     "output_type": "stream",
     "text": [
      "0\n",
      "1 4 3 \n"
     ]
    }
   ],
   "source": [
    "t = int(input())\n",
    "\n",
    "for i in range(t):\n",
    "    number = int(input())\n",
    "    if number ==0 :\n",
    "        print(0)\n",
    "        continue\n",
    "    while number > 0 :\n",
    "        print(number%10, end=\" \")\n",
    "        number//=10\n",
    "    print()"
   ]
  },
  {
   "cell_type": "code",
   "execution_count": null,
   "id": "2109ad11",
   "metadata": {},
   "outputs": [],
   "source": []
  }
 ],
 "metadata": {
  "kernelspec": {
   "display_name": "phitron_env",
   "language": "python",
   "name": "python3"
  },
  "language_info": {
   "codemirror_mode": {
    "name": "ipython",
    "version": 3
   },
   "file_extension": ".py",
   "mimetype": "text/x-python",
   "name": "python",
   "nbconvert_exporter": "python",
   "pygments_lexer": "ipython3",
   "version": "3.13.5"
  }
 },
 "nbformat": 4,
 "nbformat_minor": 5
}
