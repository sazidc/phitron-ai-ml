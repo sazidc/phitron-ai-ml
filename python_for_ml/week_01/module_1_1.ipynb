{
 "cells": [
  {
   "cell_type": "markdown",
   "id": "65d12cba",
   "metadata": {},
   "source": [
    "### Variable and Data Types"
   ]
  },
  {
   "cell_type": "code",
   "execution_count": 1,
   "id": "ff0a119f",
   "metadata": {},
   "outputs": [
    {
     "name": "stdout",
     "output_type": "stream",
     "text": [
      "3214656\n"
     ]
    }
   ],
   "source": [
    "phone_number = 3214656\n",
    "print(phone_number)"
   ]
  },
  {
   "cell_type": "code",
   "execution_count": 2,
   "id": "153f9c19",
   "metadata": {},
   "outputs": [
    {
     "name": "stdout",
     "output_type": "stream",
     "text": [
      "Abdullah\n"
     ]
    }
   ],
   "source": [
    "name  = \"Abdullah\"\n",
    "print(name)"
   ]
  },
  {
   "cell_type": "code",
   "execution_count": 3,
   "id": "62b479c5",
   "metadata": {},
   "outputs": [
    {
     "name": "stdout",
     "output_type": "stream",
     "text": [
      "<class 'str'> <class 'int'> <class 'float'> <class 'bool'>\n",
      "<class 'float'>\n"
     ]
    }
   ],
   "source": [
    "age  = 23\n",
    "height = 5.5\n",
    "name = \"Abdullah\"\n",
    "is_passed  = True\n",
    "print(type(name), type(age), type(height), type(is_passed))\n",
    "\n",
    "age = 23.5\n",
    "print(type(age))"
   ]
  },
  {
   "cell_type": "markdown",
   "id": "b21facda",
   "metadata": {},
   "source": [
    "### Taking input in Python"
   ]
  },
  {
   "cell_type": "code",
   "execution_count": 4,
   "id": "02c797ee",
   "metadata": {},
   "outputs": [
    {
     "name": "stdout",
     "output_type": "stream",
     "text": [
      "Ashik\n"
     ]
    }
   ],
   "source": [
    "name = input(\"Enter your name: \")\n",
    "print(name)"
   ]
  },
  {
   "cell_type": "code",
   "execution_count": 7,
   "id": "a47f5220",
   "metadata": {},
   "outputs": [
    {
     "name": "stdout",
     "output_type": "stream",
     "text": [
      "25 <class 'str'>\n"
     ]
    }
   ],
   "source": [
    "age = input(\"Enter your age: \")\n",
    "print(age, type(age))"
   ]
  },
  {
   "cell_type": "code",
   "execution_count": 8,
   "id": "8fad917b",
   "metadata": {},
   "outputs": [
    {
     "name": "stdout",
     "output_type": "stream",
     "text": [
      "27 <class 'int'>\n"
     ]
    }
   ],
   "source": [
    "age = int(input(\"Enter your age: \"))\n",
    "print(age, type(age))"
   ]
  },
  {
   "cell_type": "code",
   "execution_count": 9,
   "id": "48744ff7",
   "metadata": {},
   "outputs": [
    {
     "name": "stdout",
     "output_type": "stream",
     "text": [
      "6.1 <class 'float'>\n"
     ]
    }
   ],
   "source": [
    "height = float(input(\"Enter your height: \"))\n",
    "print(height, type(height))"
   ]
  },
  {
   "cell_type": "markdown",
   "id": "29c98247",
   "metadata": {},
   "source": [
    "### Operators in Python"
   ]
  },
  {
   "cell_type": "code",
   "execution_count": 10,
   "id": "bc0f6444",
   "metadata": {},
   "outputs": [
    {
     "name": "stdout",
     "output_type": "stream",
     "text": [
      "23\n",
      "17\n",
      "60\n",
      "6.666666666666667\n",
      "2\n",
      "8000\n",
      "6\n",
      "6.67\n"
     ]
    }
   ],
   "source": [
    "x = 20 ; y = 3\n",
    "\n",
    "sum = x + y\n",
    "print(sum)\n",
    "sub = x - y\n",
    "print(sub)\n",
    "mul = x * y\n",
    "print(mul)\n",
    "div = x / y\n",
    "print(div)\n",
    "mod = x % y\n",
    "print(mod)\n",
    "exp = x ** y\n",
    "print(exp)\n",
    "floor = x // y\n",
    "print(floor)\n",
    "div = round(x / y, 2)\n",
    "print(div)"
   ]
  },
  {
   "cell_type": "code",
   "execution_count": 11,
   "id": "b84e47bd",
   "metadata": {},
   "outputs": [
    {
     "name": "stdout",
     "output_type": "stream",
     "text": [
      "True True False False False True\n"
     ]
    }
   ],
   "source": [
    "x = 20 ; y = 3\n",
    "greater = x > y\n",
    "greater_or_equal = x >= y\n",
    "less = x < y\n",
    "less_or_equal = x <= y\n",
    "equal = x == y\n",
    "not_equal = x != y\n",
    "print(greater, greater_or_equal, less, less_or_equal, equal, not_equal)"
   ]
  },
  {
   "cell_type": "markdown",
   "id": "1c04200b",
   "metadata": {},
   "source": [
    "### Logical Operator"
   ]
  },
  {
   "cell_type": "code",
   "execution_count": 15,
   "id": "59437934",
   "metadata": {},
   "outputs": [
    {
     "name": "stdout",
     "output_type": "stream",
     "text": [
      "False\n",
      "True\n"
     ]
    }
   ],
   "source": [
    "x = 15 ; y = 20 ; z = 30\n",
    "result = x > y and x > z\n",
    "\n",
    "print(result)\n",
    "\n",
    "result = x < y or x < z\n",
    "\n",
    "print(result)\n"
   ]
  },
  {
   "cell_type": "code",
   "execution_count": 16,
   "id": "d7bee06a",
   "metadata": {},
   "outputs": [
    {
     "name": "stdout",
     "output_type": "stream",
     "text": [
      "True\n",
      "False\n"
     ]
    }
   ],
   "source": [
    "x = 10 ; y = 5 ; z = 15\n",
    "result = (x > y) or (x > z) \n",
    "\n",
    "print(result)\n",
    "\n",
    "x = 10 ; y = 20 ; z = 15\n",
    "result = (x > y) or (x > z) \n",
    "\n",
    "print(result)"
   ]
  },
  {
   "cell_type": "markdown",
   "id": "d949c9d8",
   "metadata": {},
   "source": [
    "### Precedence and Associativity"
   ]
  },
  {
   "cell_type": "code",
   "execution_count": 17,
   "id": "6a838c6d",
   "metadata": {},
   "outputs": [
    {
     "name": "stdout",
     "output_type": "stream",
     "text": [
      "5.0\n",
      "0.0\n"
     ]
    }
   ],
   "source": [
    "precedence = 10 + 10/2 - 5*2\n",
    "\n",
    "print(precedence)\n",
    "\n",
    "precedence = (10 + 10)/2 - 5*2\n",
    "\n",
    "print(precedence)"
   ]
  },
  {
   "cell_type": "markdown",
   "id": "66b02c6b",
   "metadata": {},
   "source": [
    "### Problem: Digit Summation"
   ]
  },
  {
   "cell_type": "code",
   "execution_count": 18,
   "id": "3b699119",
   "metadata": {},
   "outputs": [
    {
     "name": "stdout",
     "output_type": "stream",
     "text": [
      "5\n"
     ]
    }
   ],
   "source": [
    "inp = input()\n",
    "numbers = inp.split()\n",
    "x = int(numbers[0])\n",
    "y = int(numbers[1])\n",
    "\n",
    "last_digit_of_x = x % 10\n",
    "last_digit_of_y = y % 10\n",
    "\n",
    "sum = last_digit_of_x + last_digit_of_y\n",
    "\n",
    "print(sum)"
   ]
  },
  {
   "cell_type": "code",
   "execution_count": null,
   "id": "c0c0df9a",
   "metadata": {},
   "outputs": [],
   "source": []
  }
 ],
 "metadata": {
  "kernelspec": {
   "display_name": "phitron_env",
   "language": "python",
   "name": "python3"
  },
  "language_info": {
   "codemirror_mode": {
    "name": "ipython",
    "version": 3
   },
   "file_extension": ".py",
   "mimetype": "text/x-python",
   "name": "python",
   "nbconvert_exporter": "python",
   "pygments_lexer": "ipython3",
   "version": "3.13.5"
  }
 },
 "nbformat": 4,
 "nbformat_minor": 5
}
